{
  "nbformat": 4,
  "nbformat_minor": 0,
  "metadata": {
    "colab": {
      "name": "dollar.ipynb",
      "provenance": [],
      "collapsed_sections": [],
      "mount_file_id": "1SFatYQRwRHoPuACTFw34ExaOAmtxNHGi",
      "authorship_tag": "ABX9TyMY+3T0UPQARKU3wPq3CGhc",
      "include_colab_link": true
    },
    "kernelspec": {
      "name": "python3",
      "display_name": "Python 3"
    },
    "language_info": {
      "name": "python"
    }
  },
  "cells": [
    {
      "cell_type": "markdown",
      "metadata": {
        "id": "view-in-github",
        "colab_type": "text"
      },
      "source": [
        "<a href=\"https://colab.research.google.com/github/kubra0/Predict-Dollar/blob/main/dollar.ipynb\" target=\"_parent\"><img src=\"https://colab.research.google.com/assets/colab-badge.svg\" alt=\"Open In Colab\"/></a>"
      ]
    },
    {
      "cell_type": "code",
      "execution_count": 55,
      "metadata": {
        "id": "j2meIO-Go2ON"
      },
      "outputs": [],
      "source": [
        "#Kütüphaneleri ve modelleri import etme\n",
        "import numpy as np\n",
        "import pandas as pd\n",
        "import matplotlib.pyplot as plt\n",
        "from sklearn.linear_model import LinearRegression\n",
        "from sklearn.preprocessing import PolynomialFeatures"
      ]
    },
    {
      "cell_type": "code",
      "source": [
        "#veriyi  yukleme\n",
        "#veriler = pd.read_csv(\"usdtry.csv\")\n",
        "\n",
        "from google.colab import drive\n",
        "drive.mount('/content/drive/')"
      ],
      "metadata": {
        "id": "NdHClhC7pJaC",
        "colab": {
          "base_uri": "https://localhost:8080/"
        },
        "outputId": "909d7ec5-5cdc-4282-926f-4bfad93dff94"
      },
      "execution_count": 56,
      "outputs": [
        {
          "output_type": "stream",
          "name": "stdout",
          "text": [
            "Drive already mounted at /content/drive/; to attempt to forcibly remount, call drive.mount(\"/content/drive/\", force_remount=True).\n"
          ]
        }
      ]
    },
    {
      "cell_type": "code",
      "source": [
        "veriler = pd.read_csv(\"/content/drive/MyDrive/usdtry.csv\")"
      ],
      "metadata": {
        "id": "9CHXeuxraEaU"
      },
      "execution_count": 57,
      "outputs": []
    },
    {
      "cell_type": "code",
      "source": [
        "#data frame dilimleme\n",
        "x = veriler.iloc[:,0:1]\n",
        "y = veriler.iloc[:,1:]"
      ],
      "metadata": {
        "id": "rh-vo922pJ6U"
      },
      "execution_count": 58,
      "outputs": []
    },
    {
      "cell_type": "code",
      "source": [
        "#numpy array donusumu\n",
        "X = x.values\n",
        "Y = y.values"
      ],
      "metadata": {
        "id": "rN1EjMcVpfME"
      },
      "execution_count": 59,
      "outputs": []
    },
    {
      "cell_type": "code",
      "source": [
        "#verilerin dagilimi\n",
        "plt.scatter(X,Y)\n",
        "plt.xlabel(\"Gün\") \n",
        "plt.ylabel(\"Fiyat\")\n",
        "plt.title(\"Verilerin Dağılımı\")\n",
        "plt.show()"
      ],
      "metadata": {
        "colab": {
          "base_uri": "https://localhost:8080/",
          "height": 295
        },
        "id": "tLF_vcZnuo47",
        "outputId": "33a152bc-683d-4974-c4c8-3d66347a1bbf"
      },
      "execution_count": 60,
      "outputs": [
        {
          "output_type": "display_data",
          "data": {
            "image/png": "[encoded data removed]",
            "text/plain": [
              "<Figure size 432x288 with 1 Axes>"
            ]
          },
          "metadata": {
            "needs_background": "light"
          }
        }
      ]
    },
    {
      "cell_type": "code",
      "source": [
        "#lineer regresyon\n",
        "linreg = LinearRegression()\n",
        "linreg.fit(X,Y)"
      ],
      "metadata": {
        "colab": {
          "base_uri": "https://localhost:8080/"
        },
        "id": "46yJ9nQWphJu",
        "outputId": "4a1ff0d2-e4ac-4f41-d054-67418b9cf8c1"
      },
      "execution_count": 61,
      "outputs": [
        {
          "output_type": "execute_result",
          "data": {
            "text/plain": [
              "LinearRegression()"
            ]
          },
          "metadata": {},
          "execution_count": 61
        }
      ]
    },
    {
      "cell_type": "code",
      "source": [
        "#lineer regresyon gorsellestirme\n",
        "plt.scatter(X,Y,color=\"orange\")\n",
        "plt.plot(x,linreg.predict(X), color =\"green\")\n",
        "plt.xlabel(\"Gün\") \n",
        "plt.ylabel(\"Fiyat\")\n",
        "plt.title(\"Lineer Regresyon\")\n",
        "plt.show()"
      ],
      "metadata": {
        "colab": {
          "base_uri": "https://localhost:8080/",
          "height": 295
        },
        "id": "i12o6kF-uuMG",
        "outputId": "ba85a316-47eb-461a-acf8-628ded9da16b"
      },
      "execution_count": 62,
      "outputs": [
        {
          "output_type": "display_data",
          "data": {
            "image/png": "[encoded data removed]",
            "text/plain": [
              "<Figure size 432x288 with 1 Axes>"
            ]
          },
          "metadata": {
            "needs_background": "light"
          }
        }
      ]
    },
    {
      "cell_type": "code",
      "source": [
        "#lineer tahmin\n",
        "print(\"Lineer Regresyon Tahmin:\",linreg.predict([[250]]))"
      ],
      "metadata": {
        "colab": {
          "base_uri": "https://localhost:8080/"
        },
        "id": "rk_ugljXux76",
        "outputId": "dbe0fa19-8974-410d-ce38-085ccbefe409"
      },
      "execution_count": 63,
      "outputs": [
        {
          "output_type": "stream",
          "name": "stdout",
          "text": [
            "Lineer Regresyon Tahmin: [[7.39434996]]\n"
          ]
        }
      ]
    },
    {
      "cell_type": "code",
      "source": [
        "#polinomal regresyon\n",
        "polreg = PolynomialFeatures(degree=6)\n",
        "xpol = polreg.fit_transform(X)\n",
        "linreg = LinearRegression()\n",
        "linreg.fit(xpol,y)"
      ],
      "metadata": {
        "colab": {
          "base_uri": "https://localhost:8080/"
        },
        "id": "-MrE-vwfpkHh",
        "outputId": "41cbecae-68ad-47e0-9e4c-f0280904b309"
      },
      "execution_count": 64,
      "outputs": [
        {
          "output_type": "execute_result",
          "data": {
            "text/plain": [
              "LinearRegression()"
            ]
          },
          "metadata": {},
          "execution_count": 64
        }
      ]
    },
    {
      "cell_type": "code",
      "source": [
        "#polinomal regresyon gorsellestirme\n",
        "plt.scatter(X,Y,color =\"orange\")\n",
        "plt.plot(X,linreg.predict(polreg.fit_transform(X)), color = \"green\")\n",
        "plt.xlabel(\"Gün\") \n",
        "plt.ylabel(\"Fiyat\")\n",
        "plt.title(\"Polinomsal Regresyon (Derece:6)\")\n",
        "plt.show()"
      ],
      "metadata": {
        "colab": {
          "base_uri": "https://localhost:8080/",
          "height": 295
        },
        "id": "UBtghj96pmuO",
        "outputId": "56beb719-31f3-497a-ab7d-91a3cf083d56"
      },
      "execution_count": 65,
      "outputs": [
        {
          "output_type": "display_data",
          "data": {
            "image/png": "[encoded data removed]",
            "text/plain": [
              "<Figure size 432x288 with 1 Axes>"
            ]
          },
          "metadata": {
            "needs_background": "light"
          }
        }
      ]
    },
    {
      "cell_type": "code",
      "source": [
        "#polinomal tahmin\n",
        "print(\"Polinomsal Regresyon Tahmin:\",linreg.predict(polreg.fit_transform([[250]])))"
      ],
      "metadata": {
        "colab": {
          "base_uri": "https://localhost:8080/"
        },
        "id": "F0ZtVgJZu3kz",
        "outputId": "e8abf2d5-15c8-49aa-a6a3-c21b71dbe3a1"
      },
      "execution_count": 67,
      "outputs": [
        {
          "output_type": "stream",
          "name": "stdout",
          "text": [
            "Polinomsal Regresyon Tahmin: [[7.51463078]]\n"
          ]
        }
      ]
    }
  ]
}